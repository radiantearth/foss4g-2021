{
 "cells": [
  {
   "cell_type": "markdown",
   "source": [
    "# Geospatial Machine Learning with Radiant MLHub Open Training Data using Python"
   ],
   "metadata": {}
  },
  {
   "cell_type": "markdown",
   "source": [
    "## Table of Contents\n",
    "\n",
    "* [Navigating Datasets in Radiant MLHub](./navigating_datasets.ipynb)\n",
    "* [Downloading & Exploring the Tropical Storm Dataset](./nasa-tropical-storm-wind-speed-challenge-getting-started.ipynb)\n",
    "* [Training the Model Using Scikit-learn](./nasa-tropical-storm-wind-speed-challenge-benchmark.ipynb)\n",
    "* [Training the Model with Torchgeo](./torchgeo_training_tutorial.ipynb)"
   ],
   "metadata": {}
  },
  {
   "cell_type": "code",
   "execution_count": null,
   "source": [],
   "outputs": [],
   "metadata": {}
  }
 ],
 "metadata": {
  "kernelspec": {
   "display_name": "Python 3 (ipykernel)",
   "language": "python",
   "name": "python3"
  },
  "language_info": {
   "codemirror_mode": {
    "name": "ipython",
    "version": 3
   },
   "file_extension": ".py",
   "mimetype": "text/x-python",
   "name": "python",
   "nbconvert_exporter": "python",
   "pygments_lexer": "ipython3",
   "version": "3.8.9"
  }
 },
 "nbformat": 4,
 "nbformat_minor": 5
}